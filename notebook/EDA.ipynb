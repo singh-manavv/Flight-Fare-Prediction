{
 "cells": [
  {
   "cell_type": "markdown",
   "metadata": {},
   "source": [
    "### __Flight Fare Prediction__ "
   ]
  },
  {
   "cell_type": "markdown",
   "metadata": {},
   "source": [
    "#### Life cycle of this Machine learning Project\n",
    "\n",
    "- Understanding the Problem Statement\n",
    "- Data Collection\n",
    "- Data Checks to perform\n",
    "- Exploratory data analysis\n",
    "- Data Pre-Processing\n",
    "- Model Training\n",
    "- Choose best model"
   ]
  },
  {
   "cell_type": "markdown",
   "metadata": {},
   "source": [
    "#### 1. Problem Statement\n",
    "- Travelling through flights has become an integral part of today’s lifestyle as more and \n",
    "more people are opting for faster travelling options. The flight ticket prices increase or \n",
    "decrease every now and then depending on various factors like timing of the flights, \n",
    "destination, and duration of flights various occasions such as vacations or festive \n",
    "season. Therefore, having some basic idea of the flight fares before planning the trip will \n",
    "surely help many people save money and time.\n",
    "The main goal is to predict the fares of the flights based on different factors available in \n",
    "the provided dataset."
   ]
  },
  {
   "cell_type": "markdown",
   "metadata": {},
   "source": [
    "#### 2. Data Collection\n",
    "- Dataset Source : [Flight Fare Prediction](https://www.kaggle.com/datasets/nikhilmittal/flight-fare-prediction-mh)\n",
    "- It has 10683 Rows & 11 Columns"
   ]
  },
  {
   "cell_type": "markdown",
   "metadata": {},
   "source": []
  }
 ],
 "metadata": {
  "kernelspec": {
   "display_name": "Python 3",
   "language": "python",
   "name": "python3"
  },
  "language_info": {
   "name": "python",
   "version": "3.11.5"
  }
 },
 "nbformat": 4,
 "nbformat_minor": 2
}
